{
  "nbformat": 4,
  "nbformat_minor": 0,
  "metadata": {
    "colab": {
      "provenance": [],
      "authorship_tag": "ABX9TyN6fotdkgDFXLK0SEQkfBhD",
      "include_colab_link": true
    },
    "kernelspec": {
      "name": "python3",
      "display_name": "Python 3"
    },
    "language_info": {
      "name": "python"
    }
  },
  "cells": [
    {
      "cell_type": "markdown",
      "metadata": {
        "id": "view-in-github",
        "colab_type": "text"
      },
      "source": [
        "<a href=\"https://colab.research.google.com/github/Thami-code305/Thami-code305/blob/main/home_portscanner.ipynb\" target=\"_parent\"><img src=\"https://colab.research.google.com/assets/colab-badge.svg\" alt=\"Open In Colab\"/></a>"
      ]
    },
    {
      "cell_type": "code",
      "execution_count": 1,
      "metadata": {
        "colab": {
          "base_uri": "https://localhost:8080/"
        },
        "id": "umG1NSCCPUdx",
        "outputId": "2f1df180-af49-4318-d7e7-41f4faed5a93"
      },
      "outputs": [
        {
          "output_type": "stream",
          "name": "stdout",
          "text": [
            "Enter the IP address or hostname to scan (e.g. 192.168.1.1): 192.168.18.1\n",
            "Scanning 192.168.18.1 for open ports from 20 to 1024...\n",
            "\n",
            "No open ports found!\n"
          ]
        }
      ],
      "source": [
        "import socket\n",
        "\n",
        "def scan_ports(target, start_port=20, end_port=1024):\n",
        "    print(f\"Scanning {target} for open ports from {start_port} to {end_port}...\\n\")\n",
        "    open_ports = []\n",
        "    for port in range(start_port, end_port + 1):\n",
        "        try:\n",
        "            sock = socket.socket(socket.AF_INET, socket.SOCK_STREAM)\n",
        "            sock.settimeout(0.3)\n",
        "            result = sock.connect_ex((target, port))\n",
        "            sock.close()\n",
        "            if result == 0:\n",
        "                open_ports.append(port)\n",
        "        except Exception as e:\n",
        "            pass\n",
        "    if open_ports:\n",
        "        print(f\"Open ports found: {open_ports}\")\n",
        "    else:\n",
        "        print(\"No open ports found!\")\n",
        "\n",
        "def main():\n",
        "    target = input(\"Enter the IP address or hostname to scan (e.g. 192.168.1.1): \").strip()\n",
        "    scan_ports(target)\n",
        "\n",
        "if __name__ == \"__main__\":\n",
        "    main()\n"
      ]
    }
  ]
}