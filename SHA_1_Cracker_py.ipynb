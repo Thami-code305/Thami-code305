{
  "nbformat": 4,
  "nbformat_minor": 0,
  "metadata": {
    "colab": {
      "provenance": [],
      "authorship_tag": "ABX9TyOGhV2OCmnx8FnGZNwUsmdQ",
      "include_colab_link": true
    },
    "kernelspec": {
      "name": "python3",
      "display_name": "Python 3"
    },
    "language_info": {
      "name": "python"
    }
  },
  "cells": [
    {
      "cell_type": "markdown",
      "metadata": {
        "id": "view-in-github",
        "colab_type": "text"
      },
      "source": [
        "<a href=\"https://colab.research.google.com/github/Thami-code305/Thami-code305/blob/main/SHA_1_Cracker_py.ipynb\" target=\"_parent\"><img src=\"https://colab.research.google.com/assets/colab-badge.svg\" alt=\"Open In Colab\"/></a>"
      ]
    },
    {
      "cell_type": "code",
      "execution_count": null,
      "metadata": {
        "colab": {
          "base_uri": "https://localhost:8080/"
        },
        "id": "-Ef7MNKo1JsY",
        "outputId": "8aaeed69-4c4f-43e6-9b55-4375d8a385ff"
      },
      "outputs": [
        {
          "output_type": "stream",
          "name": "stdout",
          "text": [
            "🔍 Starting SHA-1 hash cracking...\n",
            "\n",
            "✅ Found (plain): password → 5baa61e4c9b93f3f0682250b6cf8331b7ee68fd8\n",
            "✅ Found (plain): sammy123 → b305921a3723cd5d70a375cd21a61e60aabb84ec\n",
            "✅ Found (plain): abacab → c7ab388a5ebefbf4d550652f1eb4d833e5316e3e\n",
            "\n",
            "🎉 Cracked 3 password(s) total.\n"
          ]
        }
      ],
      "source": [
        "import hashlib\n",
        "\n",
        "# Target hashes to test\n",
        "target_hashes = {\n",
        "    \"b305921a3723cd5d70a375cd21a61e60aabb84ec\": \"sammy123\",\n",
        "    \"c7ab388a5ebefbf4d550652f1eb4d833e5316e3e\": \"abacab\",\n",
        "    \"5baa61e4c9b93f3f0682250b6cf8331b7ee68fd8\": \"password\",\n",
        "    \"53d8b3dc9d39f0184144674e310185e41a87ffd5\": \"superman\",    # salted\n",
        "    \"da5a4e8cf89539e66097acd2f8af128acae2f8ae\": \"q1w2e3r4t5\",   # salted\n",
        "    \"ea3f62d498e3b98557f9f9cd0d905028b3b019e1\": \"bubbles1\"      # salted\n",
        "}\n",
        "\n",
        "# Wordlist to try (you can add more)\n",
        "wordlist = [\n",
        "    \"123456\", \"password\", \"admin\", \"letmein\", \"qwerty\", \"sammy123\",\n",
        "    \"abacab\", \"superman\", \"q1w2e3r4t5\", \"bubbles1\", \"ninja\"\n",
        "]\n",
        "\n",
        "# Set to True if salted hashes should be checked\n",
        "use_salts = True\n",
        "# List of salts to try (for demo, we only know 'salt' is used)\n",
        "salts = [\"salt\"]\n",
        "\n",
        "# Track matches\n",
        "found = []\n",
        "\n",
        "# Start cracking\n",
        "print(\"🔍 Starting SHA-1 hash cracking...\\n\")\n",
        "for password in wordlist:\n",
        "    # Case 1: Unsalted\n",
        "    hash_plain = hashlib.sha1(password.encode()).hexdigest()\n",
        "    if hash_plain in target_hashes:\n",
        "        print(f\"✅ Found (plain): {password} → {hash_plain}\")\n",
        "        found.append((password, hash_plain))\n",
        "\n",
        "    # Case 2: Salted\n",
        "    if use_salts:\n",
        "        for salt in salts:\n",
        "            salted_input = salt + password\n",
        "            hash_salted = hashlib.sha1(salted_input.encode()).hexdigest()\n",
        "            if hash_salted in target_hashes:\n",
        "                print(f\"✅ Found (salted): {password} → {hash_salted}\")\n",
        "                found.append((password, hash_salted))\n",
        "\n",
        "if not found:\n",
        "    print(\"❌ No matches found.\")\n",
        "else:\n",
        "    print(f\"\\n🎉 Cracked {len(found)} password(s) total.\")\n"
      ]
    }
  ]
}